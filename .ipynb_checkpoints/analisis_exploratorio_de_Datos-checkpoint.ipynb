{
 "cells": [
  {
   "cell_type": "markdown",
   "id": "0d860a90-b64a-4b67-a371-306fa1eeecc2",
   "metadata": {},
   "source": [
    "## Impotamos las librerias necesarias"
   ]
  },
  {
   "cell_type": "code",
   "execution_count": 1,
   "id": "9784988e-2321-47c5-838f-cd154bf3ef67",
   "metadata": {},
   "outputs": [],
   "source": [
    "import pandas as pd\n",
    "import numpy as np\n",
    "import matplotlib.pyplot as plt\n",
    "import seaborn as sns\n",
    "import plotly.express as px"
   ]
  },
  {
   "cell_type": "code",
   "execution_count": 2,
   "id": "c3522b02-830f-4519-bd60-bb72ebc05114",
   "metadata": {},
   "outputs": [],
   "source": [
    "from scipy.stats.mstats import winsorize\n",
    "from sklearn.preprocessing import StandardScaler\n",
    "from sklearn.decomposition import PCA\n",
    "from sklearn.cluster import KMeans\n",
    "from sklearn.model_selection import train_test_split\n",
    "from sklearn.linear_model import LinearRegression"
   ]
  },
  {
   "cell_type": "markdown",
   "id": "879496cc-9a62-4ba7-9e56-0621741e760a",
   "metadata": {},
   "source": [
    "## Cargando conjunto de datos"
   ]
  },
  {
   "cell_type": "code",
   "execution_count": 3,
   "id": "7b95d3d1-950b-49d3-96da-3f6741baf902",
   "metadata": {},
   "outputs": [],
   "source": [
    "life_expectancy = pd.read_csv('Life Expectancy Data.csv')"
   ]
  },
  {
   "cell_type": "code",
   "execution_count": 4,
   "id": "9dc8be07-3164-43e1-8589-20616853fd82",
   "metadata": {},
   "outputs": [
    {
     "data": {
      "text/plain": [
       "Index(['Country', 'Year', 'Status', 'Life expectancy ', 'Adult Mortality',\n",
       "       'infant deaths', 'Alcohol', 'percentage expenditure', 'Hepatitis B',\n",
       "       'Measles ', ' BMI ', 'under-five deaths ', 'Polio', 'Total expenditure',\n",
       "       'Diphtheria ', ' HIV/AIDS', 'GDP', 'Population',\n",
       "       ' thinness  1-19 years', ' thinness 5-9 years',\n",
       "       'Income composition of resources', 'Schooling'],\n",
       "      dtype='object')"
      ]
     },
     "execution_count": 4,
     "metadata": {},
     "output_type": "execute_result"
    }
   ],
   "source": [
    "# Mostramos todas las columnas\n",
    "life_expectancy.columns"
   ]
  },
  {
   "cell_type": "code",
   "execution_count": 5,
   "id": "fb3c25d7-18ff-4cc1-a98a-be5570a556c0",
   "metadata": {},
   "outputs": [
    {
     "data": {
      "text/html": [
       "<div>\n",
       "<style scoped>\n",
       "    .dataframe tbody tr th:only-of-type {\n",
       "        vertical-align: middle;\n",
       "    }\n",
       "\n",
       "    .dataframe tbody tr th {\n",
       "        vertical-align: top;\n",
       "    }\n",
       "\n",
       "    .dataframe thead th {\n",
       "        text-align: right;\n",
       "    }\n",
       "</style>\n",
       "<table border=\"1\" class=\"dataframe\">\n",
       "  <thead>\n",
       "    <tr style=\"text-align: right;\">\n",
       "      <th></th>\n",
       "      <th>Country</th>\n",
       "      <th>Year</th>\n",
       "      <th>Status</th>\n",
       "      <th>Life expectancy</th>\n",
       "      <th>Adult Mortality</th>\n",
       "      <th>infant deaths</th>\n",
       "      <th>Alcohol</th>\n",
       "      <th>percentage expenditure</th>\n",
       "      <th>Hepatitis B</th>\n",
       "      <th>Measles</th>\n",
       "      <th>...</th>\n",
       "      <th>Polio</th>\n",
       "      <th>Total expenditure</th>\n",
       "      <th>Diphtheria</th>\n",
       "      <th>HIV/AIDS</th>\n",
       "      <th>GDP</th>\n",
       "      <th>Population</th>\n",
       "      <th>thinness  1-19 years</th>\n",
       "      <th>thinness 5-9 years</th>\n",
       "      <th>Income composition of resources</th>\n",
       "      <th>Schooling</th>\n",
       "    </tr>\n",
       "  </thead>\n",
       "  <tbody>\n",
       "    <tr>\n",
       "      <th>0</th>\n",
       "      <td>Afghanistan</td>\n",
       "      <td>2015</td>\n",
       "      <td>Developing</td>\n",
       "      <td>65.0</td>\n",
       "      <td>263.0</td>\n",
       "      <td>62</td>\n",
       "      <td>0.01</td>\n",
       "      <td>71.279624</td>\n",
       "      <td>65.0</td>\n",
       "      <td>1154</td>\n",
       "      <td>...</td>\n",
       "      <td>6.0</td>\n",
       "      <td>8.16</td>\n",
       "      <td>65.0</td>\n",
       "      <td>0.1</td>\n",
       "      <td>584.259210</td>\n",
       "      <td>33736494.0</td>\n",
       "      <td>17.2</td>\n",
       "      <td>17.3</td>\n",
       "      <td>0.479</td>\n",
       "      <td>10.1</td>\n",
       "    </tr>\n",
       "    <tr>\n",
       "      <th>1</th>\n",
       "      <td>Afghanistan</td>\n",
       "      <td>2014</td>\n",
       "      <td>Developing</td>\n",
       "      <td>59.9</td>\n",
       "      <td>271.0</td>\n",
       "      <td>64</td>\n",
       "      <td>0.01</td>\n",
       "      <td>73.523582</td>\n",
       "      <td>62.0</td>\n",
       "      <td>492</td>\n",
       "      <td>...</td>\n",
       "      <td>58.0</td>\n",
       "      <td>8.18</td>\n",
       "      <td>62.0</td>\n",
       "      <td>0.1</td>\n",
       "      <td>612.696514</td>\n",
       "      <td>327582.0</td>\n",
       "      <td>17.5</td>\n",
       "      <td>17.5</td>\n",
       "      <td>0.476</td>\n",
       "      <td>10.0</td>\n",
       "    </tr>\n",
       "    <tr>\n",
       "      <th>2</th>\n",
       "      <td>Afghanistan</td>\n",
       "      <td>2013</td>\n",
       "      <td>Developing</td>\n",
       "      <td>59.9</td>\n",
       "      <td>268.0</td>\n",
       "      <td>66</td>\n",
       "      <td>0.01</td>\n",
       "      <td>73.219243</td>\n",
       "      <td>64.0</td>\n",
       "      <td>430</td>\n",
       "      <td>...</td>\n",
       "      <td>62.0</td>\n",
       "      <td>8.13</td>\n",
       "      <td>64.0</td>\n",
       "      <td>0.1</td>\n",
       "      <td>631.744976</td>\n",
       "      <td>31731688.0</td>\n",
       "      <td>17.7</td>\n",
       "      <td>17.7</td>\n",
       "      <td>0.470</td>\n",
       "      <td>9.9</td>\n",
       "    </tr>\n",
       "    <tr>\n",
       "      <th>3</th>\n",
       "      <td>Afghanistan</td>\n",
       "      <td>2012</td>\n",
       "      <td>Developing</td>\n",
       "      <td>59.5</td>\n",
       "      <td>272.0</td>\n",
       "      <td>69</td>\n",
       "      <td>0.01</td>\n",
       "      <td>78.184215</td>\n",
       "      <td>67.0</td>\n",
       "      <td>2787</td>\n",
       "      <td>...</td>\n",
       "      <td>67.0</td>\n",
       "      <td>8.52</td>\n",
       "      <td>67.0</td>\n",
       "      <td>0.1</td>\n",
       "      <td>669.959000</td>\n",
       "      <td>3696958.0</td>\n",
       "      <td>17.9</td>\n",
       "      <td>18.0</td>\n",
       "      <td>0.463</td>\n",
       "      <td>9.8</td>\n",
       "    </tr>\n",
       "    <tr>\n",
       "      <th>4</th>\n",
       "      <td>Afghanistan</td>\n",
       "      <td>2011</td>\n",
       "      <td>Developing</td>\n",
       "      <td>59.2</td>\n",
       "      <td>275.0</td>\n",
       "      <td>71</td>\n",
       "      <td>0.01</td>\n",
       "      <td>7.097109</td>\n",
       "      <td>68.0</td>\n",
       "      <td>3013</td>\n",
       "      <td>...</td>\n",
       "      <td>68.0</td>\n",
       "      <td>7.87</td>\n",
       "      <td>68.0</td>\n",
       "      <td>0.1</td>\n",
       "      <td>63.537231</td>\n",
       "      <td>2978599.0</td>\n",
       "      <td>18.2</td>\n",
       "      <td>18.2</td>\n",
       "      <td>0.454</td>\n",
       "      <td>9.5</td>\n",
       "    </tr>\n",
       "  </tbody>\n",
       "</table>\n",
       "<p>5 rows × 22 columns</p>\n",
       "</div>"
      ],
      "text/plain": [
       "       Country  Year      Status  Life expectancy   Adult Mortality  \\\n",
       "0  Afghanistan  2015  Developing              65.0            263.0   \n",
       "1  Afghanistan  2014  Developing              59.9            271.0   \n",
       "2  Afghanistan  2013  Developing              59.9            268.0   \n",
       "3  Afghanistan  2012  Developing              59.5            272.0   \n",
       "4  Afghanistan  2011  Developing              59.2            275.0   \n",
       "\n",
       "   infant deaths  Alcohol  percentage expenditure  Hepatitis B  Measles   ...  \\\n",
       "0             62     0.01               71.279624         65.0      1154  ...   \n",
       "1             64     0.01               73.523582         62.0       492  ...   \n",
       "2             66     0.01               73.219243         64.0       430  ...   \n",
       "3             69     0.01               78.184215         67.0      2787  ...   \n",
       "4             71     0.01                7.097109         68.0      3013  ...   \n",
       "\n",
       "   Polio  Total expenditure  Diphtheria    HIV/AIDS         GDP  Population  \\\n",
       "0    6.0               8.16         65.0        0.1  584.259210  33736494.0   \n",
       "1   58.0               8.18         62.0        0.1  612.696514    327582.0   \n",
       "2   62.0               8.13         64.0        0.1  631.744976  31731688.0   \n",
       "3   67.0               8.52         67.0        0.1  669.959000   3696958.0   \n",
       "4   68.0               7.87         68.0        0.1   63.537231   2978599.0   \n",
       "\n",
       "    thinness  1-19 years   thinness 5-9 years  \\\n",
       "0                   17.2                 17.3   \n",
       "1                   17.5                 17.5   \n",
       "2                   17.7                 17.7   \n",
       "3                   17.9                 18.0   \n",
       "4                   18.2                 18.2   \n",
       "\n",
       "   Income composition of resources  Schooling  \n",
       "0                            0.479       10.1  \n",
       "1                            0.476       10.0  \n",
       "2                            0.470        9.9  \n",
       "3                            0.463        9.8  \n",
       "4                            0.454        9.5  \n",
       "\n",
       "[5 rows x 22 columns]"
      ]
     },
     "execution_count": 5,
     "metadata": {},
     "output_type": "execute_result"
    }
   ],
   "source": [
    "# Mostramos las primeras 5 filas del data\n",
    "life_expectancy.head()"
   ]
  },
  {
   "cell_type": "code",
   "execution_count": 6,
   "id": "dc62472d-f1fb-45cc-9a08-37a0912e1f61",
   "metadata": {},
   "outputs": [
    {
     "data": {
      "text/html": [
       "<div>\n",
       "<style scoped>\n",
       "    .dataframe tbody tr th:only-of-type {\n",
       "        vertical-align: middle;\n",
       "    }\n",
       "\n",
       "    .dataframe tbody tr th {\n",
       "        vertical-align: top;\n",
       "    }\n",
       "\n",
       "    .dataframe thead th {\n",
       "        text-align: right;\n",
       "    }\n",
       "</style>\n",
       "<table border=\"1\" class=\"dataframe\">\n",
       "  <thead>\n",
       "    <tr style=\"text-align: right;\">\n",
       "      <th></th>\n",
       "      <th>Year</th>\n",
       "      <th>Life expectancy</th>\n",
       "      <th>Adult Mortality</th>\n",
       "      <th>infant deaths</th>\n",
       "      <th>Alcohol</th>\n",
       "      <th>percentage expenditure</th>\n",
       "      <th>Hepatitis B</th>\n",
       "      <th>Measles</th>\n",
       "      <th>BMI</th>\n",
       "      <th>under-five deaths</th>\n",
       "      <th>Polio</th>\n",
       "      <th>Total expenditure</th>\n",
       "      <th>Diphtheria</th>\n",
       "      <th>HIV/AIDS</th>\n",
       "      <th>GDP</th>\n",
       "      <th>Population</th>\n",
       "      <th>thinness  1-19 years</th>\n",
       "      <th>thinness 5-9 years</th>\n",
       "      <th>Income composition of resources</th>\n",
       "      <th>Schooling</th>\n",
       "    </tr>\n",
       "  </thead>\n",
       "  <tbody>\n",
       "    <tr>\n",
       "      <th>count</th>\n",
       "      <td>2938.000000</td>\n",
       "      <td>2928.000000</td>\n",
       "      <td>2928.000000</td>\n",
       "      <td>2938.000000</td>\n",
       "      <td>2744.000000</td>\n",
       "      <td>2938.000000</td>\n",
       "      <td>2385.000000</td>\n",
       "      <td>2938.000000</td>\n",
       "      <td>2904.000000</td>\n",
       "      <td>2938.000000</td>\n",
       "      <td>2919.000000</td>\n",
       "      <td>2712.00000</td>\n",
       "      <td>2919.000000</td>\n",
       "      <td>2938.000000</td>\n",
       "      <td>2490.000000</td>\n",
       "      <td>2.286000e+03</td>\n",
       "      <td>2904.000000</td>\n",
       "      <td>2904.000000</td>\n",
       "      <td>2771.000000</td>\n",
       "      <td>2775.000000</td>\n",
       "    </tr>\n",
       "    <tr>\n",
       "      <th>mean</th>\n",
       "      <td>2007.518720</td>\n",
       "      <td>69.224932</td>\n",
       "      <td>164.796448</td>\n",
       "      <td>30.303948</td>\n",
       "      <td>4.602861</td>\n",
       "      <td>738.251295</td>\n",
       "      <td>80.940461</td>\n",
       "      <td>2419.592240</td>\n",
       "      <td>38.321247</td>\n",
       "      <td>42.035739</td>\n",
       "      <td>82.550188</td>\n",
       "      <td>5.93819</td>\n",
       "      <td>82.324084</td>\n",
       "      <td>1.742103</td>\n",
       "      <td>7483.158469</td>\n",
       "      <td>1.275338e+07</td>\n",
       "      <td>4.839704</td>\n",
       "      <td>4.870317</td>\n",
       "      <td>0.627551</td>\n",
       "      <td>11.992793</td>\n",
       "    </tr>\n",
       "    <tr>\n",
       "      <th>std</th>\n",
       "      <td>4.613841</td>\n",
       "      <td>9.523867</td>\n",
       "      <td>124.292079</td>\n",
       "      <td>117.926501</td>\n",
       "      <td>4.052413</td>\n",
       "      <td>1987.914858</td>\n",
       "      <td>25.070016</td>\n",
       "      <td>11467.272489</td>\n",
       "      <td>20.044034</td>\n",
       "      <td>160.445548</td>\n",
       "      <td>23.428046</td>\n",
       "      <td>2.49832</td>\n",
       "      <td>23.716912</td>\n",
       "      <td>5.077785</td>\n",
       "      <td>14270.169342</td>\n",
       "      <td>6.101210e+07</td>\n",
       "      <td>4.420195</td>\n",
       "      <td>4.508882</td>\n",
       "      <td>0.210904</td>\n",
       "      <td>3.358920</td>\n",
       "    </tr>\n",
       "    <tr>\n",
       "      <th>min</th>\n",
       "      <td>2000.000000</td>\n",
       "      <td>36.300000</td>\n",
       "      <td>1.000000</td>\n",
       "      <td>0.000000</td>\n",
       "      <td>0.010000</td>\n",
       "      <td>0.000000</td>\n",
       "      <td>1.000000</td>\n",
       "      <td>0.000000</td>\n",
       "      <td>1.000000</td>\n",
       "      <td>0.000000</td>\n",
       "      <td>3.000000</td>\n",
       "      <td>0.37000</td>\n",
       "      <td>2.000000</td>\n",
       "      <td>0.100000</td>\n",
       "      <td>1.681350</td>\n",
       "      <td>3.400000e+01</td>\n",
       "      <td>0.100000</td>\n",
       "      <td>0.100000</td>\n",
       "      <td>0.000000</td>\n",
       "      <td>0.000000</td>\n",
       "    </tr>\n",
       "    <tr>\n",
       "      <th>25%</th>\n",
       "      <td>2004.000000</td>\n",
       "      <td>63.100000</td>\n",
       "      <td>74.000000</td>\n",
       "      <td>0.000000</td>\n",
       "      <td>0.877500</td>\n",
       "      <td>4.685343</td>\n",
       "      <td>77.000000</td>\n",
       "      <td>0.000000</td>\n",
       "      <td>19.300000</td>\n",
       "      <td>0.000000</td>\n",
       "      <td>78.000000</td>\n",
       "      <td>4.26000</td>\n",
       "      <td>78.000000</td>\n",
       "      <td>0.100000</td>\n",
       "      <td>463.935626</td>\n",
       "      <td>1.957932e+05</td>\n",
       "      <td>1.600000</td>\n",
       "      <td>1.500000</td>\n",
       "      <td>0.493000</td>\n",
       "      <td>10.100000</td>\n",
       "    </tr>\n",
       "    <tr>\n",
       "      <th>50%</th>\n",
       "      <td>2008.000000</td>\n",
       "      <td>72.100000</td>\n",
       "      <td>144.000000</td>\n",
       "      <td>3.000000</td>\n",
       "      <td>3.755000</td>\n",
       "      <td>64.912906</td>\n",
       "      <td>92.000000</td>\n",
       "      <td>17.000000</td>\n",
       "      <td>43.500000</td>\n",
       "      <td>4.000000</td>\n",
       "      <td>93.000000</td>\n",
       "      <td>5.75500</td>\n",
       "      <td>93.000000</td>\n",
       "      <td>0.100000</td>\n",
       "      <td>1766.947595</td>\n",
       "      <td>1.386542e+06</td>\n",
       "      <td>3.300000</td>\n",
       "      <td>3.300000</td>\n",
       "      <td>0.677000</td>\n",
       "      <td>12.300000</td>\n",
       "    </tr>\n",
       "    <tr>\n",
       "      <th>75%</th>\n",
       "      <td>2012.000000</td>\n",
       "      <td>75.700000</td>\n",
       "      <td>228.000000</td>\n",
       "      <td>22.000000</td>\n",
       "      <td>7.702500</td>\n",
       "      <td>441.534144</td>\n",
       "      <td>97.000000</td>\n",
       "      <td>360.250000</td>\n",
       "      <td>56.200000</td>\n",
       "      <td>28.000000</td>\n",
       "      <td>97.000000</td>\n",
       "      <td>7.49250</td>\n",
       "      <td>97.000000</td>\n",
       "      <td>0.800000</td>\n",
       "      <td>5910.806335</td>\n",
       "      <td>7.420359e+06</td>\n",
       "      <td>7.200000</td>\n",
       "      <td>7.200000</td>\n",
       "      <td>0.779000</td>\n",
       "      <td>14.300000</td>\n",
       "    </tr>\n",
       "    <tr>\n",
       "      <th>max</th>\n",
       "      <td>2015.000000</td>\n",
       "      <td>89.000000</td>\n",
       "      <td>723.000000</td>\n",
       "      <td>1800.000000</td>\n",
       "      <td>17.870000</td>\n",
       "      <td>19479.911610</td>\n",
       "      <td>99.000000</td>\n",
       "      <td>212183.000000</td>\n",
       "      <td>87.300000</td>\n",
       "      <td>2500.000000</td>\n",
       "      <td>99.000000</td>\n",
       "      <td>17.60000</td>\n",
       "      <td>99.000000</td>\n",
       "      <td>50.600000</td>\n",
       "      <td>119172.741800</td>\n",
       "      <td>1.293859e+09</td>\n",
       "      <td>27.700000</td>\n",
       "      <td>28.600000</td>\n",
       "      <td>0.948000</td>\n",
       "      <td>20.700000</td>\n",
       "    </tr>\n",
       "  </tbody>\n",
       "</table>\n",
       "</div>"
      ],
      "text/plain": [
       "              Year  Life expectancy   Adult Mortality  infant deaths  \\\n",
       "count  2938.000000       2928.000000      2928.000000    2938.000000   \n",
       "mean   2007.518720         69.224932       164.796448      30.303948   \n",
       "std       4.613841          9.523867       124.292079     117.926501   \n",
       "min    2000.000000         36.300000         1.000000       0.000000   \n",
       "25%    2004.000000         63.100000        74.000000       0.000000   \n",
       "50%    2008.000000         72.100000       144.000000       3.000000   \n",
       "75%    2012.000000         75.700000       228.000000      22.000000   \n",
       "max    2015.000000         89.000000       723.000000    1800.000000   \n",
       "\n",
       "           Alcohol  percentage expenditure  Hepatitis B       Measles   \\\n",
       "count  2744.000000             2938.000000  2385.000000    2938.000000   \n",
       "mean      4.602861              738.251295    80.940461    2419.592240   \n",
       "std       4.052413             1987.914858    25.070016   11467.272489   \n",
       "min       0.010000                0.000000     1.000000       0.000000   \n",
       "25%       0.877500                4.685343    77.000000       0.000000   \n",
       "50%       3.755000               64.912906    92.000000      17.000000   \n",
       "75%       7.702500              441.534144    97.000000     360.250000   \n",
       "max      17.870000            19479.911610    99.000000  212183.000000   \n",
       "\n",
       "              BMI   under-five deaths         Polio  Total expenditure  \\\n",
       "count  2904.000000         2938.000000  2919.000000         2712.00000   \n",
       "mean     38.321247           42.035739    82.550188            5.93819   \n",
       "std      20.044034          160.445548    23.428046            2.49832   \n",
       "min       1.000000            0.000000     3.000000            0.37000   \n",
       "25%      19.300000            0.000000    78.000000            4.26000   \n",
       "50%      43.500000            4.000000    93.000000            5.75500   \n",
       "75%      56.200000           28.000000    97.000000            7.49250   \n",
       "max      87.300000         2500.000000    99.000000           17.60000   \n",
       "\n",
       "       Diphtheria      HIV/AIDS            GDP    Population  \\\n",
       "count  2919.000000  2938.000000    2490.000000  2.286000e+03   \n",
       "mean     82.324084     1.742103    7483.158469  1.275338e+07   \n",
       "std      23.716912     5.077785   14270.169342  6.101210e+07   \n",
       "min       2.000000     0.100000       1.681350  3.400000e+01   \n",
       "25%      78.000000     0.100000     463.935626  1.957932e+05   \n",
       "50%      93.000000     0.100000    1766.947595  1.386542e+06   \n",
       "75%      97.000000     0.800000    5910.806335  7.420359e+06   \n",
       "max      99.000000    50.600000  119172.741800  1.293859e+09   \n",
       "\n",
       "        thinness  1-19 years   thinness 5-9 years  \\\n",
       "count            2904.000000          2904.000000   \n",
       "mean                4.839704             4.870317   \n",
       "std                 4.420195             4.508882   \n",
       "min                 0.100000             0.100000   \n",
       "25%                 1.600000             1.500000   \n",
       "50%                 3.300000             3.300000   \n",
       "75%                 7.200000             7.200000   \n",
       "max                27.700000            28.600000   \n",
       "\n",
       "       Income composition of resources    Schooling  \n",
       "count                      2771.000000  2775.000000  \n",
       "mean                          0.627551    11.992793  \n",
       "std                           0.210904     3.358920  \n",
       "min                           0.000000     0.000000  \n",
       "25%                           0.493000    10.100000  \n",
       "50%                           0.677000    12.300000  \n",
       "75%                           0.779000    14.300000  \n",
       "max                           0.948000    20.700000  "
      ]
     },
     "execution_count": 6,
     "metadata": {},
     "output_type": "execute_result"
    }
   ],
   "source": [
    "# Realizamos una descripcion para ver el comportamiento del data set\n",
    "life_expectancy.describe()"
   ]
  },
  {
   "cell_type": "code",
   "execution_count": 7,
   "id": "cdd611df-a8ed-4e8c-a9f5-b318b66de72a",
   "metadata": {},
   "outputs": [],
   "source": [
    "# Realizamos un analisis de valores nulos por anio\n",
    "nan_analysis = pd.DataFrame()"
   ]
  },
  {
   "cell_type": "code",
   "execution_count": 8,
   "id": "c0a32450-4b3f-44d8-be2a-cc042db0e8bc",
   "metadata": {},
   "outputs": [],
   "source": [
    "for Year_ in life_expectancy.loc[ : , \"Year\" ].drop_duplicates():\n",
    "    countrydf = life_expectancy.loc[ life_expectancy['Year'] == Year_ , : ]    \n",
    "    for column_ in countrydf.columns:        \n",
    "        percentage =  np.sum(pd.isna( countrydf.loc[ : , column_ ]  )) / countrydf.shape[0]\n",
    "        dfrow = pd.DataFrame({\n",
    "            'Year': [ Year_ ]\n",
    "            , 'column' : [ column_ ]\n",
    "            , 'percentage.of.nans' : [ percentage ]\n",
    "        })\n",
    "        nan_analysis = pd.concat([nan_analysis, dfrow])"
   ]
  },
  {
   "cell_type": "code",
   "execution_count": 9,
   "id": "9531ab8b-c474-4a52-b632-57fb28aaec6d",
   "metadata": {},
   "outputs": [
    {
     "data": {
      "text/html": [
       "<div>\n",
       "<style scoped>\n",
       "    .dataframe tbody tr th:only-of-type {\n",
       "        vertical-align: middle;\n",
       "    }\n",
       "\n",
       "    .dataframe tbody tr th {\n",
       "        vertical-align: top;\n",
       "    }\n",
       "\n",
       "    .dataframe thead th {\n",
       "        text-align: right;\n",
       "    }\n",
       "</style>\n",
       "<table border=\"1\" class=\"dataframe\">\n",
       "  <thead>\n",
       "    <tr style=\"text-align: right;\">\n",
       "      <th></th>\n",
       "      <th>Year</th>\n",
       "      <th>column</th>\n",
       "      <th>percentage.of.nans</th>\n",
       "    </tr>\n",
       "  </thead>\n",
       "  <tbody>\n",
       "    <tr>\n",
       "      <th>0</th>\n",
       "      <td>2015</td>\n",
       "      <td>Country</td>\n",
       "      <td>0.000000</td>\n",
       "    </tr>\n",
       "    <tr>\n",
       "      <th>0</th>\n",
       "      <td>2015</td>\n",
       "      <td>Year</td>\n",
       "      <td>0.000000</td>\n",
       "    </tr>\n",
       "    <tr>\n",
       "      <th>0</th>\n",
       "      <td>2015</td>\n",
       "      <td>Status</td>\n",
       "      <td>0.000000</td>\n",
       "    </tr>\n",
       "    <tr>\n",
       "      <th>0</th>\n",
       "      <td>2015</td>\n",
       "      <td>Life expectancy</td>\n",
       "      <td>0.000000</td>\n",
       "    </tr>\n",
       "    <tr>\n",
       "      <th>0</th>\n",
       "      <td>2015</td>\n",
       "      <td>Adult Mortality</td>\n",
       "      <td>0.000000</td>\n",
       "    </tr>\n",
       "    <tr>\n",
       "      <th>...</th>\n",
       "      <td>...</td>\n",
       "      <td>...</td>\n",
       "      <td>...</td>\n",
       "    </tr>\n",
       "    <tr>\n",
       "      <th>0</th>\n",
       "      <td>2000</td>\n",
       "      <td>Population</td>\n",
       "      <td>0.218579</td>\n",
       "    </tr>\n",
       "    <tr>\n",
       "      <th>0</th>\n",
       "      <td>2000</td>\n",
       "      <td>thinness  1-19 years</td>\n",
       "      <td>0.010929</td>\n",
       "    </tr>\n",
       "    <tr>\n",
       "      <th>0</th>\n",
       "      <td>2000</td>\n",
       "      <td>thinness 5-9 years</td>\n",
       "      <td>0.010929</td>\n",
       "    </tr>\n",
       "    <tr>\n",
       "      <th>0</th>\n",
       "      <td>2000</td>\n",
       "      <td>Income composition of resources</td>\n",
       "      <td>0.054645</td>\n",
       "    </tr>\n",
       "    <tr>\n",
       "      <th>0</th>\n",
       "      <td>2000</td>\n",
       "      <td>Schooling</td>\n",
       "      <td>0.054645</td>\n",
       "    </tr>\n",
       "  </tbody>\n",
       "</table>\n",
       "<p>352 rows × 3 columns</p>\n",
       "</div>"
      ],
      "text/plain": [
       "    Year                           column  percentage.of.nans\n",
       "0   2015                          Country            0.000000\n",
       "0   2015                             Year            0.000000\n",
       "0   2015                           Status            0.000000\n",
       "0   2015                 Life expectancy             0.000000\n",
       "0   2015                  Adult Mortality            0.000000\n",
       "..   ...                              ...                 ...\n",
       "0   2000                       Population            0.218579\n",
       "0   2000             thinness  1-19 years            0.010929\n",
       "0   2000               thinness 5-9 years            0.010929\n",
       "0   2000  Income composition of resources            0.054645\n",
       "0   2000                        Schooling            0.054645\n",
       "\n",
       "[352 rows x 3 columns]"
      ]
     },
     "execution_count": 9,
     "metadata": {},
     "output_type": "execute_result"
    }
   ],
   "source": [
    "nan_analysis"
   ]
  },
  {
   "cell_type": "markdown",
   "id": "9121c553-a947-4250-96f2-7dbc26dca31d",
   "metadata": {},
   "source": [
    "# Limpieza de valores nulos"
   ]
  },
  {
   "cell_type": "code",
   "execution_count": 10,
   "id": "006241ff-053c-4b8a-a089-8cf37f589fac",
   "metadata": {},
   "outputs": [],
   "source": [
    "df_limpio = life_expectancy"
   ]
  },
  {
   "cell_type": "code",
   "execution_count": 11,
   "id": "d8bc5b17-7cae-468a-ab74-321e9725d903",
   "metadata": {},
   "outputs": [
    {
     "name": "stdout",
     "output_type": "stream",
     "text": [
      "Country\n",
      "0\n",
      " \n",
      "Year\n",
      "0\n",
      " \n",
      "Status\n",
      "0\n",
      " \n",
      "Life expectancy \n",
      "10\n",
      " \n",
      "Adult Mortality\n",
      "10\n",
      " \n",
      "infant deaths\n",
      "0\n",
      " \n",
      "Alcohol\n",
      "194\n",
      " \n",
      "percentage expenditure\n",
      "0\n",
      " \n",
      "Hepatitis B\n",
      "553\n",
      " \n",
      "Measles \n",
      "0\n",
      " \n",
      " BMI \n",
      "34\n",
      " \n",
      "under-five deaths \n",
      "0\n",
      " \n",
      "Polio\n",
      "19\n",
      " \n",
      "Total expenditure\n",
      "226\n",
      " \n",
      "Diphtheria \n",
      "19\n",
      " \n",
      " HIV/AIDS\n",
      "0\n",
      " \n",
      "GDP\n",
      "448\n",
      " \n",
      "Population\n",
      "652\n",
      " \n",
      " thinness  1-19 years\n",
      "34\n",
      " \n",
      " thinness 5-9 years\n",
      "34\n",
      " \n",
      "Income composition of resources\n",
      "167\n",
      " \n",
      "Schooling\n",
      "163\n",
      " \n"
     ]
    }
   ],
   "source": [
    "# hacemos un recorrido para ver las columnas con valores nulos\n",
    "for c_ in df_limpio.columns:\n",
    "    print(c_)\n",
    "    print(np.sum(df_limpio[c_].isna()))\n",
    "    print(\" \")"
   ]
  },
  {
   "cell_type": "code",
   "execution_count": 19,
   "id": "d284a0d1-ffea-413c-906d-5883bf24e2b7",
   "metadata": {},
   "outputs": [],
   "source": [
    "# Columnas a limpiar\n",
    "columnas_a_limpiar= ['Life expectancy ','Adult Mortality','Alcohol',\n",
    "                     'Hepatitis B',' BMI ', 'Polio',\n",
    "                     'Total expenditure','Diphtheria ',\n",
    "                     'GDP','Population',' thinness  1-19 years',\n",
    "                     ' thinness 5-9 years','Income composition of resources','Schooling']"
   ]
  },
  {
   "cell_type": "code",
   "execution_count": 20,
   "id": "db627a5f-a67d-4026-a598-e825e00ddd8d",
   "metadata": {},
   "outputs": [],
   "source": [
    "# Mediante un ciclo for realizamos la limpieza de estas columnas con la media\n",
    "for d_ in df_limpio[columnas_a_limpiar]:\n",
    "    mediana= df_limpio[d_].median()\n",
    "    df_limpio[d_]=df_limpio[d_].fillna(mediana)"
   ]
  },
  {
   "cell_type": "markdown",
   "id": "efd4efe1-2fb3-4ff5-a172-d7e827a120f3",
   "metadata": {},
   "source": [
    "## Comprobamos si se ha realizado la limpieza de manera correcta"
   ]
  },
  {
   "cell_type": "code",
   "execution_count": 21,
   "id": "a640a22a-3128-4376-889f-385327b63c50",
   "metadata": {},
   "outputs": [
    {
     "name": "stdout",
     "output_type": "stream",
     "text": [
      "Country\n",
      "0\n",
      " \n",
      "Year\n",
      "0\n",
      " \n",
      "Status\n",
      "0\n",
      " \n",
      "Life expectancy \n",
      "0\n",
      " \n",
      "Adult Mortality\n",
      "0\n",
      " \n",
      "infant deaths\n",
      "0\n",
      " \n",
      "Alcohol\n",
      "0\n",
      " \n",
      "percentage expenditure\n",
      "0\n",
      " \n",
      "Hepatitis B\n",
      "0\n",
      " \n",
      "Measles \n",
      "0\n",
      " \n",
      " BMI \n",
      "0\n",
      " \n",
      "under-five deaths \n",
      "0\n",
      " \n",
      "Polio\n",
      "0\n",
      " \n",
      "Total expenditure\n",
      "0\n",
      " \n",
      "Diphtheria \n",
      "0\n",
      " \n",
      " HIV/AIDS\n",
      "0\n",
      " \n",
      "GDP\n",
      "0\n",
      " \n",
      "Population\n",
      "0\n",
      " \n",
      " thinness  1-19 years\n",
      "0\n",
      " \n",
      " thinness 5-9 years\n",
      "0\n",
      " \n",
      "Income composition of resources\n",
      "0\n",
      " \n",
      "Schooling\n",
      "0\n",
      " \n"
     ]
    }
   ],
   "source": [
    "for c_ in df_limpio.columns:\n",
    "    print(c_)\n",
    "    print(np.sum(df_limpio[c_].isna()))\n",
    "    print(\" \")"
   ]
  },
  {
   "cell_type": "markdown",
   "id": "6000e4da-c8db-467b-be11-abec15ffa650",
   "metadata": {},
   "source": [
    "## El nuevo dataset sin valores nulos es: df_limpio"
   ]
  },
  {
   "cell_type": "code",
   "execution_count": 22,
   "id": "48a9dd96-6165-4fe2-a5f4-572b2fc45313",
   "metadata": {},
   "outputs": [
    {
     "data": {
      "text/html": [
       "<div>\n",
       "<style scoped>\n",
       "    .dataframe tbody tr th:only-of-type {\n",
       "        vertical-align: middle;\n",
       "    }\n",
       "\n",
       "    .dataframe tbody tr th {\n",
       "        vertical-align: top;\n",
       "    }\n",
       "\n",
       "    .dataframe thead th {\n",
       "        text-align: right;\n",
       "    }\n",
       "</style>\n",
       "<table border=\"1\" class=\"dataframe\">\n",
       "  <thead>\n",
       "    <tr style=\"text-align: right;\">\n",
       "      <th></th>\n",
       "      <th>Country</th>\n",
       "      <th>Year</th>\n",
       "      <th>Status</th>\n",
       "      <th>Life expectancy</th>\n",
       "      <th>Adult Mortality</th>\n",
       "      <th>infant deaths</th>\n",
       "      <th>Alcohol</th>\n",
       "      <th>percentage expenditure</th>\n",
       "      <th>Hepatitis B</th>\n",
       "      <th>Measles</th>\n",
       "      <th>...</th>\n",
       "      <th>Polio</th>\n",
       "      <th>Total expenditure</th>\n",
       "      <th>Diphtheria</th>\n",
       "      <th>HIV/AIDS</th>\n",
       "      <th>GDP</th>\n",
       "      <th>Population</th>\n",
       "      <th>thinness  1-19 years</th>\n",
       "      <th>thinness 5-9 years</th>\n",
       "      <th>Income composition of resources</th>\n",
       "      <th>Schooling</th>\n",
       "    </tr>\n",
       "  </thead>\n",
       "  <tbody>\n",
       "    <tr>\n",
       "      <th>0</th>\n",
       "      <td>Afghanistan</td>\n",
       "      <td>2015</td>\n",
       "      <td>Developing</td>\n",
       "      <td>65.0</td>\n",
       "      <td>263.0</td>\n",
       "      <td>62</td>\n",
       "      <td>0.01</td>\n",
       "      <td>71.279624</td>\n",
       "      <td>65.0</td>\n",
       "      <td>1154</td>\n",
       "      <td>...</td>\n",
       "      <td>6.0</td>\n",
       "      <td>8.16</td>\n",
       "      <td>65.0</td>\n",
       "      <td>0.1</td>\n",
       "      <td>584.259210</td>\n",
       "      <td>33736494.0</td>\n",
       "      <td>17.2</td>\n",
       "      <td>17.3</td>\n",
       "      <td>0.479</td>\n",
       "      <td>10.1</td>\n",
       "    </tr>\n",
       "    <tr>\n",
       "      <th>1</th>\n",
       "      <td>Afghanistan</td>\n",
       "      <td>2014</td>\n",
       "      <td>Developing</td>\n",
       "      <td>59.9</td>\n",
       "      <td>271.0</td>\n",
       "      <td>64</td>\n",
       "      <td>0.01</td>\n",
       "      <td>73.523582</td>\n",
       "      <td>62.0</td>\n",
       "      <td>492</td>\n",
       "      <td>...</td>\n",
       "      <td>58.0</td>\n",
       "      <td>8.18</td>\n",
       "      <td>62.0</td>\n",
       "      <td>0.1</td>\n",
       "      <td>612.696514</td>\n",
       "      <td>327582.0</td>\n",
       "      <td>17.5</td>\n",
       "      <td>17.5</td>\n",
       "      <td>0.476</td>\n",
       "      <td>10.0</td>\n",
       "    </tr>\n",
       "    <tr>\n",
       "      <th>2</th>\n",
       "      <td>Afghanistan</td>\n",
       "      <td>2013</td>\n",
       "      <td>Developing</td>\n",
       "      <td>59.9</td>\n",
       "      <td>268.0</td>\n",
       "      <td>66</td>\n",
       "      <td>0.01</td>\n",
       "      <td>73.219243</td>\n",
       "      <td>64.0</td>\n",
       "      <td>430</td>\n",
       "      <td>...</td>\n",
       "      <td>62.0</td>\n",
       "      <td>8.13</td>\n",
       "      <td>64.0</td>\n",
       "      <td>0.1</td>\n",
       "      <td>631.744976</td>\n",
       "      <td>31731688.0</td>\n",
       "      <td>17.7</td>\n",
       "      <td>17.7</td>\n",
       "      <td>0.470</td>\n",
       "      <td>9.9</td>\n",
       "    </tr>\n",
       "    <tr>\n",
       "      <th>3</th>\n",
       "      <td>Afghanistan</td>\n",
       "      <td>2012</td>\n",
       "      <td>Developing</td>\n",
       "      <td>59.5</td>\n",
       "      <td>272.0</td>\n",
       "      <td>69</td>\n",
       "      <td>0.01</td>\n",
       "      <td>78.184215</td>\n",
       "      <td>67.0</td>\n",
       "      <td>2787</td>\n",
       "      <td>...</td>\n",
       "      <td>67.0</td>\n",
       "      <td>8.52</td>\n",
       "      <td>67.0</td>\n",
       "      <td>0.1</td>\n",
       "      <td>669.959000</td>\n",
       "      <td>3696958.0</td>\n",
       "      <td>17.9</td>\n",
       "      <td>18.0</td>\n",
       "      <td>0.463</td>\n",
       "      <td>9.8</td>\n",
       "    </tr>\n",
       "    <tr>\n",
       "      <th>4</th>\n",
       "      <td>Afghanistan</td>\n",
       "      <td>2011</td>\n",
       "      <td>Developing</td>\n",
       "      <td>59.2</td>\n",
       "      <td>275.0</td>\n",
       "      <td>71</td>\n",
       "      <td>0.01</td>\n",
       "      <td>7.097109</td>\n",
       "      <td>68.0</td>\n",
       "      <td>3013</td>\n",
       "      <td>...</td>\n",
       "      <td>68.0</td>\n",
       "      <td>7.87</td>\n",
       "      <td>68.0</td>\n",
       "      <td>0.1</td>\n",
       "      <td>63.537231</td>\n",
       "      <td>2978599.0</td>\n",
       "      <td>18.2</td>\n",
       "      <td>18.2</td>\n",
       "      <td>0.454</td>\n",
       "      <td>9.5</td>\n",
       "    </tr>\n",
       "  </tbody>\n",
       "</table>\n",
       "<p>5 rows × 22 columns</p>\n",
       "</div>"
      ],
      "text/plain": [
       "       Country  Year      Status  Life expectancy   Adult Mortality  \\\n",
       "0  Afghanistan  2015  Developing              65.0            263.0   \n",
       "1  Afghanistan  2014  Developing              59.9            271.0   \n",
       "2  Afghanistan  2013  Developing              59.9            268.0   \n",
       "3  Afghanistan  2012  Developing              59.5            272.0   \n",
       "4  Afghanistan  2011  Developing              59.2            275.0   \n",
       "\n",
       "   infant deaths  Alcohol  percentage expenditure  Hepatitis B  Measles   ...  \\\n",
       "0             62     0.01               71.279624         65.0      1154  ...   \n",
       "1             64     0.01               73.523582         62.0       492  ...   \n",
       "2             66     0.01               73.219243         64.0       430  ...   \n",
       "3             69     0.01               78.184215         67.0      2787  ...   \n",
       "4             71     0.01                7.097109         68.0      3013  ...   \n",
       "\n",
       "   Polio  Total expenditure  Diphtheria    HIV/AIDS         GDP  Population  \\\n",
       "0    6.0               8.16         65.0        0.1  584.259210  33736494.0   \n",
       "1   58.0               8.18         62.0        0.1  612.696514    327582.0   \n",
       "2   62.0               8.13         64.0        0.1  631.744976  31731688.0   \n",
       "3   67.0               8.52         67.0        0.1  669.959000   3696958.0   \n",
       "4   68.0               7.87         68.0        0.1   63.537231   2978599.0   \n",
       "\n",
       "    thinness  1-19 years   thinness 5-9 years  \\\n",
       "0                   17.2                 17.3   \n",
       "1                   17.5                 17.5   \n",
       "2                   17.7                 17.7   \n",
       "3                   17.9                 18.0   \n",
       "4                   18.2                 18.2   \n",
       "\n",
       "   Income composition of resources  Schooling  \n",
       "0                            0.479       10.1  \n",
       "1                            0.476       10.0  \n",
       "2                            0.470        9.9  \n",
       "3                            0.463        9.8  \n",
       "4                            0.454        9.5  \n",
       "\n",
       "[5 rows x 22 columns]"
      ]
     },
     "execution_count": 22,
     "metadata": {},
     "output_type": "execute_result"
    }
   ],
   "source": [
    "df_limpio.head()"
   ]
  },
  {
   "cell_type": "markdown",
   "id": "34906a74-f635-4fd9-9623-2a72c47d1b69",
   "metadata": {},
   "source": [
    "# Realizamos el analisis de Bloxplots"
   ]
  },
  {
   "cell_type": "markdown",
   "id": "5cda2109-d35f-4e9d-8cf4-0be35696e9d4",
   "metadata": {},
   "source": [
    "## Bloxplots: El objetivo de utilizar cajas de bigotes es para visualizar la dispersión de los datos y para comparar la distribución de los mismo. También se puede utilizar para detectar valores atípicos o \"outliers\" en los datos."
   ]
  },
  {
   "cell_type": "markdown",
   "id": "4eaf5dc1-2edd-411a-bb43-13c2765edca4",
   "metadata": {},
   "source": [
    "### Primero se realiza el cálculo de los valores valores atípicos para conocer cuántos son y el porcentaje que representan utilizando el método Tukey. Luego se utiliza la técnica de Winsorize para remover los valores valores atípicos y se muestran los boxplots con y sin los valores atípicos de cada columna."
   ]
  },
  {
   "cell_type": "code",
   "execution_count": 31,
   "id": "baf44ef4-2c8b-4ba9-adb0-311883677a1f",
   "metadata": {},
   "outputs": [
    {
     "name": "stdout",
     "output_type": "stream",
     "text": [
      "La cantidad de valores atípicos para --Life expectancy -- es 17 y su porcentaje es 0.8555611474584801\n",
      "La cantidad de valores atípicos para --Adult Mortality-- es 86 y su porcentaje es 4.3281328636134875\n",
      "La cantidad de valores atípicos para --infant deaths-- es 315 y su porcentaje es 15.853044791142425\n",
      "La cantidad de valores atípicos para --Alcohol-- es 3 y su porcentaje es 0.1509813789632612\n",
      "La cantidad de valores atípicos para --percentage expenditure-- es 389 y su porcentaje es 19.577252138902868\n",
      "La cantidad de valores atípicos para --Hepatitis B-- es 322 y su porcentaje es 16.205334675390034\n",
      "La cantidad de valores atípicos para --Measles -- es 542 y su porcentaje es 27.27730246602919\n",
      "La cantidad de valores atípicos para -- BMI -- es 0 y su porcentaje es 0.0\n",
      "La cantidad de valores atípicos para --under-five deaths -- es 394 y su porcentaje es 19.828887770508302\n",
      "La cantidad de valores atípicos para --Polio-- es 279 y su porcentaje es 14.041268243583291\n",
      "La cantidad de valores atípicos para --Total expenditure-- es 51 y su porcentaje es 2.5666834423754405\n",
      "La cantidad de valores atípicos para --Diphtheria -- es 298 y su porcentaje es 14.997483643683946\n",
      "La cantidad de valores atípicos para -- HIV/AIDS-- es 542 y su porcentaje es 27.27730246602919\n",
      "La cantidad de valores atípicos para --GDP-- es 445 y su porcentaje es 22.395571212883745\n",
      "La cantidad de valores atípicos para --Population-- es 452 y su porcentaje es 22.747861097131352\n",
      "La cantidad de valores atípicos para -- thinness  1-19 years-- es 100 y su porcentaje es 5.032712632108707\n",
      "La cantidad de valores atípicos para -- thinness 5-9 years-- es 99 y su porcentaje es 4.98238550578762\n",
      "La cantidad de valores atípicos para --Income composition of resources-- es 130 y su porcentaje es 6.542526421741319\n",
      "La cantidad de valores atípicos para --Schooling-- es 77 y su porcentaje es 3.875188726723704\n"
     ]
    }
   ],
   "source": [
    "# Creamos un diccionaron con las columnas que utiilizaremos para realizar los boxplots.\n",
    "bp_cols= {'Life expectancy ':1, 'Adult Mortality':2,\n",
    "       'infant deaths':3, 'Alcohol':4, 'percentage expenditure':5, 'Hepatitis B':6,\n",
    "       'Measles ':7, ' BMI ':8, 'under-five deaths ':9, 'Polio':10, 'Total expenditure':11,\n",
    "       'Diphtheria ':12, ' HIV/AIDS':13, 'GDP':14, 'Population':15,\n",
    "       ' thinness  1-19 years':16, ' thinness 5-9 years':17,\n",
    "       'Income composition of resources':18, 'Schooling':19}\n",
    "\n",
    "# Calculando la cantidad de valores atípicos y su porcentaje usando el método Tukey.\n",
    "for columna_o in bp_cols.keys():\n",
    "    q75, q25 = np.percentile(df_limpio[columna_o], [75 ,25])\n",
    "    iqr = q75 - q25\n",
    "\n",
    "    min_val = q25 - (iqr*1.5)\n",
    "    max_val = q75 + (iqr*1.5)\n",
    "    ##imprimimos los resultados\n",
    "    print(\"La cantidad de valores atípicos para --{}-- es {} y su porcentaje es {}\"\n",
    "          .format(columna_o, len((np.where((df_limpio[columna_o] > max_val) |\n",
    "                                           (df_limpio[columna_o] < min_val))[0])),\n",
    "                                           len((np.where((df_limpio[columna_o] > max_val) |\n",
    "                                           (df_limpio[columna_o] < min_val))[0]))*100/1987))"
   ]
  },
  {
   "cell_type": "markdown",
   "id": "c40a8b1b-4fb9-4c89-9887-d8810f2297a7",
   "metadata": {},
   "source": [
    "## Generación de los boxplots"
   ]
  },
  {
   "cell_type": "markdown",
   "id": "b2bb4cea-e0cd-4d42-b653-42828eca64ba",
   "metadata": {},
   "source": [
    "### Se generan los boxplots con y sin valores atípicos, se guarda el resultado excluyendo los valores atípicos para trabajar con ellos después."
   ]
  },
  {
   "cell_type": "code",
   "execution_count": 33,
   "id": "7667daef-57e1-457f-9839-193e595de46e",
   "metadata": {},
   "outputs": [
    {
     "data": {
      "image/png": "[encoded data removed]",
      "text/plain": [
       "<Figure size 1296x432 with 2 Axes>"
      ]
     },
     "metadata": {
      "needs_background": "light"
     },
     "output_type": "display_data"
    }
   ],
   "source": [
    "plt.figure(figsize=(18,6))\n",
    "\n",
    "plt.subplot(1,2,1)\n",
    "original_Life_Expectancy = df_limpio['Life expectancy ']\n",
    "plt.boxplot(original_Life_Expectancy)\n",
    "plt.title(\"Original Life Expectancy\")\n",
    "\n",
    "plt.subplot(1,2,2)\n",
    "winsorized_Life_Expectancy = winsorize(df_limpio['Life expectancy '],(0.01,0))\n",
    "plt.boxplot(winsorized_Life_Expectancy)\n",
    "plt.title(\"modified Life Expectancy\")\n",
    "\n",
    "plt.show()"
   ]
  },
  {
   "cell_type": "code",
   "execution_count": 34,
   "id": "38b90ba9-0a09-4182-bafb-3a3cb8211307",
   "metadata": {},
   "outputs": [
    {
     "data": {
      "image/png": "[encoded data removed]",
      "text/plain": [
       "<Figure size 1296x432 with 2 Axes>"
      ]
     },
     "metadata": {
      "needs_background": "light"
     },
     "output_type": "display_data"
    }
   ],
   "source": [
    "plt.figure(figsize=(18,6))\n",
    "\n",
    "plt.subplot(1,2,1)\n",
    "original_Adult_Mortality = df_limpio['Adult Mortality']\n",
    "plt.boxplot(original_Adult_Mortality)\n",
    "plt.title(\"Original Adult Mortality\")\n",
    "\n",
    "plt.subplot(1,2,2)\n",
    "winsorized_Adult_Mortality = winsorize(df_limpio['Adult Mortality'],(0,0.03))\n",
    "plt.boxplot(winsorized_Adult_Mortality)\n",
    "plt.title(\"modified Adult Mortality\")\n",
    "\n",
    "plt.show()"
   ]
  },
  {
   "cell_type": "code",
   "execution_count": 35,
   "id": "5706d17b-4a72-4fb5-81b3-d5731f2212e8",
   "metadata": {},
   "outputs": [
    {
     "data": {
      "image/png": "[encoded data removed]",
      "text/plain": [
       "<Figure size 1296x432 with 2 Axes>"
      ]
     },
     "metadata": {
      "needs_background": "light"
     },
     "output_type": "display_data"
    }
   ],
   "source": [
    "plt.figure(figsize=(18,6))\n",
    "\n",
    "plt.subplot(1,2,1)\n",
    "original_Infant_Deaths = df_limpio['infant deaths']\n",
    "plt.boxplot(original_Infant_Deaths)\n",
    "plt.title(\"Original Infant Deaths\")\n",
    "\n",
    "plt.subplot(1,2,2)\n",
    "winsorized_Infant_Deaths = winsorize(df_limpio['infant deaths'],(0,0.15))\n",
    "plt.boxplot(winsorized_Infant_Deaths)\n",
    "plt.title(\"modified Infant Deaths\")\n",
    "\n",
    "plt.show()"
   ]
  },
  {
   "cell_type": "code",
   "execution_count": 36,
   "id": "5d17d546-1c9a-45c1-89c4-31dd666697df",
   "metadata": {},
   "outputs": [
    {
     "data": {
      "image/png": "[encoded data removed]",
      "text/plain": [
       "<Figure size 1296x432 with 2 Axes>"
      ]
     },
     "metadata": {
      "needs_background": "light"
     },
     "output_type": "display_data"
    }
   ],
   "source": [
    "plt.figure(figsize=(18,6))\n",
    "\n",
    "plt.subplot(1,2,1)\n",
    "original_Alcohol = df_limpio['Alcohol']\n",
    "plt.boxplot(original_Alcohol)\n",
    "plt.title(\"Original Alcohol\")\n",
    "\n",
    "plt.subplot(1,2,2)\n",
    "winsorized_Alcohol = winsorize(df_limpio['Alcohol'],(0,0.015))\n",
    "plt.boxplot(winsorized_Alcohol)\n",
    "plt.title(\"modified Alcohol\")\n",
    "\n",
    "plt.show()"
   ]
  },
  {
   "cell_type": "code",
   "execution_count": 37,
   "id": "a0626569-dde6-43e5-9335-aed188b76083",
   "metadata": {},
   "outputs": [
    {
     "data": {
      "image/png": "[encoded data removed]",
      "text/plain": [
       "<Figure size 1296x432 with 2 Axes>"
      ]
     },
     "metadata": {
      "needs_background": "light"
     },
     "output_type": "display_data"
    }
   ],
   "source": [
    "plt.figure(figsize=(18,6))\n",
    "\n",
    "plt.subplot(1,2,1)\n",
    "original_Percentage_Exp = df_limpio['percentage expenditure']\n",
    "plt.boxplot(original_Percentage_Exp)\n",
    "plt.title(\"Original Percentage Exp\")\n",
    "\n",
    "plt.subplot(1,2,2)\n",
    "winsorized_Percentage_Exp = winsorize(df_limpio['percentage expenditure'],(0,0.19))\n",
    "plt.boxplot(winsorized_Percentage_Exp)\n",
    "plt.title(\"modified Percentage Exp\")\n",
    "\n",
    "plt.show()"
   ]
  },
  {
   "cell_type": "code",
   "execution_count": 38,
   "id": "7989a1d4-073e-4e12-b16d-afe44ce79960",
   "metadata": {},
   "outputs": [
    {
     "data": {
      "image/png": "[encoded data removed]",
      "text/plain": [
       "<Figure size 1296x432 with 2 Axes>"
      ]
     },
     "metadata": {
      "needs_background": "light"
     },
     "output_type": "display_data"
    }
   ],
   "source": [
    "plt.figure(figsize=(18,6))\n",
    "\n",
    "plt.subplot(1,2,1)\n",
    "original_HepatitisB = df_limpio['Hepatitis B']\n",
    "plt.boxplot(original_HepatitisB)\n",
    "plt.title(\"Original HepatitisB\")\n",
    "\n",
    "plt.subplot(1,2,2)\n",
    "winsorized_HepatitisB = winsorize(df_limpio['Hepatitis B'],(0.16,0))\n",
    "plt.boxplot(winsorized_HepatitisB)\n",
    "plt.title(\"modified HepatitisB\")\n",
    "\n",
    "plt.show()"
   ]
  },
  {
   "cell_type": "code",
   "execution_count": 39,
   "id": "560428ec-ca5c-4d28-8033-086e9d8a491b",
   "metadata": {},
   "outputs": [
    {
     "data": {
      "image/png": "[encoded data removed]",
      "text/plain": [
       "<Figure size 1296x432 with 2 Axes>"
      ]
     },
     "metadata": {
      "needs_background": "light"
     },
     "output_type": "display_data"
    }
   ],
   "source": [
    "plt.figure(figsize=(18,6))\n",
    "\n",
    "plt.subplot(1,2,1)\n",
    "original_Measles = df_limpio['Measles ']\n",
    "plt.boxplot(original_Measles)\n",
    "plt.title(\"Original Measles\")\n",
    "\n",
    "plt.subplot(1,2,2)\n",
    "winsorized_Measles = winsorize(df_limpio['Measles '],(0,0.27))\n",
    "plt.boxplot(winsorized_Measles)\n",
    "plt.title(\"modified Measles\")\n",
    "\n",
    "plt.show()"
   ]
  },
  {
   "cell_type": "code",
   "execution_count": 40,
   "id": "c6a627ae-0324-4b8f-a9fb-6c7204c7e5d2",
   "metadata": {},
   "outputs": [
    {
     "data": {
      "image/png": "[encoded data removed]",
      "text/plain": [
       "<Figure size 1296x432 with 2 Axes>"
      ]
     },
     "metadata": {
      "needs_background": "light"
     },
     "output_type": "display_data"
    }
   ],
   "source": [
    "plt.figure(figsize=(18,6))\n",
    "\n",
    "plt.subplot(1,2,1)\n",
    "original_Under_Five_Deaths = df_limpio['under-five deaths ']\n",
    "plt.boxplot(original_Under_Five_Deaths)\n",
    "plt.title(\"Original Under Five Deaths\")\n",
    "\n",
    "plt.subplot(1,2,2)\n",
    "winsorized_Under_Five_Deaths = winsorize(df_limpio['under-five deaths '],(0,0.19))\n",
    "plt.boxplot(winsorized_Under_Five_Deaths)\n",
    "plt.title(\"modified Five Deaths\")\n",
    "\n",
    "plt.show()"
   ]
  },
  {
   "cell_type": "code",
   "execution_count": 41,
   "id": "34e52c73-a9c1-45ae-a0ae-829969ddcaf2",
   "metadata": {},
   "outputs": [
    {
     "data": {
      "image/png": "[encoded data removed]",
      "text/plain": [
       "<Figure size 1296x432 with 2 Axes>"
      ]
     },
     "metadata": {
      "needs_background": "light"
     },
     "output_type": "display_data"
    }
   ],
   "source": [
    "plt.figure(figsize=(18,6))\n",
    "\n",
    "plt.subplot(1,2,1)\n",
    "original_Polio = df_limpio['Polio']\n",
    "plt.boxplot(original_Polio)\n",
    "plt.title(\"Original Polio\")\n",
    "\n",
    "plt.subplot(1,2,2)\n",
    "winsorized_Polio = winsorize(df_limpio['Polio'],(0.14,0))\n",
    "plt.boxplot(winsorized_Polio)\n",
    "plt.title(\"modified Polio\")\n",
    "\n",
    "plt.show()"
   ]
  },
  {
   "cell_type": "code",
   "execution_count": 42,
   "id": "f65a835e-d66a-47a2-a57a-6794085e883c",
   "metadata": {},
   "outputs": [
    {
     "data": {
      "image/png": "[encoded data removed]",
      "text/plain": [
       "<Figure size 1296x432 with 2 Axes>"
      ]
     },
     "metadata": {
      "needs_background": "light"
     },
     "output_type": "display_data"
    }
   ],
   "source": [
    "plt.figure(figsize=(18,6))\n",
    "\n",
    "plt.subplot(1,2,1)\n",
    "original_Tot_Exp = df_limpio['Total expenditure']\n",
    "plt.boxplot(original_Tot_Exp)\n",
    "plt.title(\"Original Tot Exp\")\n",
    "\n",
    "plt.subplot(1,2,2)\n",
    "winsorized_Tot_Exp = winsorize(df_limpio['Total expenditure'],(0,0.02))\n",
    "plt.boxplot(winsorized_Tot_Exp)\n",
    "plt.title(\"modified Tot Exp\")\n",
    "\n",
    "plt.show()"
   ]
  },
  {
   "cell_type": "code",
   "execution_count": 43,
   "id": "9e854d51-b6f7-404e-ac3e-fa32176ed90a",
   "metadata": {},
   "outputs": [
    {
     "data": {
      "image/png": "[encoded data removed]",
      "text/plain": [
       "<Figure size 1296x432 with 2 Axes>"
      ]
     },
     "metadata": {
      "needs_background": "light"
     },
     "output_type": "display_data"
    }
   ],
   "source": [
    "plt.figure(figsize=(18,6))\n",
    "\n",
    "plt.subplot(1,2,1)\n",
    "original_Diphtheria = df_limpio['Diphtheria ']\n",
    "plt.boxplot(original_Diphtheria)\n",
    "plt.title(\"Original Diphtheria\")\n",
    "\n",
    "plt.subplot(1,2,2)\n",
    "winsorized_Diphtheria = winsorize(df_limpio['Diphtheria '],(0.15,0))\n",
    "plt.boxplot(winsorized_Diphtheria)\n",
    "plt.title(\"modified Diphtheria\")\n",
    "\n",
    "plt.show()"
   ]
  },
  {
   "cell_type": "code",
   "execution_count": 44,
   "id": "97b5b94c-f79c-4d60-9e54-210fd8631cc4",
   "metadata": {},
   "outputs": [
    {
     "data": {
      "image/png": "[encoded data removed]",
      "text/plain": [
       "<Figure size 1296x432 with 2 Axes>"
      ]
     },
     "metadata": {
      "needs_background": "light"
     },
     "output_type": "display_data"
    }
   ],
   "source": [
    "plt.figure(figsize=(18,6))\n",
    "\n",
    "plt.subplot(1,2,1)\n",
    "original_HIV = df_limpio[' HIV/AIDS']\n",
    "plt.boxplot(original_HIV)\n",
    "plt.title(\"Original HIV\")\n",
    "\n",
    "plt.subplot(1,2,2)\n",
    "winsorized_HIV = winsorize(df_limpio[' HIV/AIDS'],(0,0.27))\n",
    "plt.boxplot(winsorized_HIV)\n",
    "plt.title(\"modified HIV\")\n",
    "\n",
    "plt.show()"
   ]
  },
  {
   "cell_type": "code",
   "execution_count": 45,
   "id": "81b65a19-5b8f-4557-8990-a9a173a7332f",
   "metadata": {},
   "outputs": [
    {
     "data": {
      "image/png": "[encoded data removed]",
      "text/plain": [
       "<Figure size 1296x432 with 2 Axes>"
      ]
     },
     "metadata": {
      "needs_background": "light"
     },
     "output_type": "display_data"
    }
   ],
   "source": [
    "plt.figure(figsize=(18,6))\n",
    "\n",
    "plt.subplot(1,2,1)\n",
    "original_GDP = df_limpio['GDP']\n",
    "plt.boxplot(original_GDP)\n",
    "plt.title(\"Original GDP\")\n",
    "\n",
    "plt.subplot(1,2,2)\n",
    "winsorized_GDP = winsorize(df_limpio['GDP'],(0,0.22))\n",
    "plt.boxplot(winsorized_GDP)\n",
    "plt.title(\"modified GDP\")\n",
    "\n",
    "plt.show()"
   ]
  },
  {
   "cell_type": "code",
   "execution_count": 46,
   "id": "f9761e5e-6be7-4ae6-a87d-ec6d0380dda2",
   "metadata": {},
   "outputs": [
    {
     "data": {
      "image/png": "[encoded data removed]",
      "text/plain": [
       "<Figure size 1296x432 with 2 Axes>"
      ]
     },
     "metadata": {
      "needs_background": "light"
     },
     "output_type": "display_data"
    }
   ],
   "source": [
    "plt.figure(figsize=(18,6))\n",
    "\n",
    "plt.subplot(1,2,1)\n",
    "original_Population = df_limpio['Population']\n",
    "plt.boxplot(original_Population)\n",
    "plt.title(\"Original Population\")\n",
    "\n",
    "plt.subplot(1,2,2)\n",
    "winsorized_Population = winsorize(df_limpio['Population'],(0,0.23))\n",
    "plt.boxplot(winsorized_Population)\n",
    "plt.title(\"modified Population\")\n",
    "\n",
    "plt.show()"
   ]
  },
  {
   "cell_type": "code",
   "execution_count": 47,
   "id": "3c8e7651-14ab-4f8e-bc1f-2ae704cfabc6",
   "metadata": {},
   "outputs": [
    {
     "data": {
      "image/png": "[encoded data removed]",
      "text/plain": [
       "<Figure size 1296x432 with 2 Axes>"
      ]
     },
     "metadata": {
      "needs_background": "light"
     },
     "output_type": "display_data"
    }
   ],
   "source": [
    "plt.figure(figsize=(18,6))\n",
    "\n",
    "plt.subplot(1,2,1)\n",
    "original_thinness_1to19_years = df_limpio[' thinness  1-19 years']\n",
    "plt.boxplot(original_thinness_1to19_years)\n",
    "plt.title(\"Original thinness 1 to 19 years\")\n",
    "\n",
    "plt.subplot(1,2,2)\n",
    "winsorized_thinness_1to19_years = winsorize(df_limpio[' thinness  1-19 years'],(0,0.05))\n",
    "plt.boxplot(winsorized_thinness_1to19_years)\n",
    "plt.title(\"modified thinness 1 to 19 years\")\n",
    "\n",
    "plt.show()"
   ]
  },
  {
   "cell_type": "code",
   "execution_count": 48,
   "id": "144f527b-f4c7-45c3-bdca-93a855c17f7f",
   "metadata": {},
   "outputs": [
    {
     "data": {
      "image/png": "[encoded data removed]",
      "text/plain": [
       "<Figure size 1296x432 with 2 Axes>"
      ]
     },
     "metadata": {
      "needs_background": "light"
     },
     "output_type": "display_data"
    }
   ],
   "source": [
    "plt.figure(figsize=(18,6))\n",
    "\n",
    "plt.subplot(1,2,1)\n",
    "original_thinness_5to9_years = df_limpio[' thinness 5-9 years']\n",
    "plt.boxplot(original_thinness_5to9_years)\n",
    "plt.title(\"Original thinness 5 to 9 years\")\n",
    "\n",
    "plt.subplot(1,2,2)\n",
    "winsorized_thinness_5to9_years = winsorize(df_limpio[' thinness 5-9 years'],(0,0.05))\n",
    "plt.boxplot(winsorized_thinness_5to9_years)\n",
    "plt.title(\"modified thinness 5 to 9 years\")\n",
    "\n",
    "plt.show()"
   ]
  },
  {
   "cell_type": "code",
   "execution_count": 49,
   "id": "075c6c00-5b9f-41d2-a823-3da3d41fd4a0",
   "metadata": {},
   "outputs": [
    {
     "data": {
      "image/png": "[encoded data removed]",
      "text/plain": [
       "<Figure size 1296x432 with 2 Axes>"
      ]
     },
     "metadata": {
      "needs_background": "light"
     },
     "output_type": "display_data"
    }
   ],
   "source": [
    "plt.figure(figsize=(18,6))\n",
    "\n",
    "plt.subplot(1,2,1)\n",
    "original_Income_Comp_Of_Resources = df_limpio['Income composition of resources']\n",
    "plt.boxplot(original_Income_Comp_Of_Resources)\n",
    "plt.title(\"Original Income Comp Of Resources\")\n",
    "\n",
    "plt.subplot(1,2,2)\n",
    "winsorized_Income_Comp_Of_Resources = winsorize(df_limpio['Income composition of resources'],(0.07,0))\n",
    "plt.boxplot(winsorized_Income_Comp_Of_Resources)\n",
    "plt.title(\"modified Income Comp Of Resources\")\n",
    "\n",
    "plt.show()"
   ]
  },
  {
   "cell_type": "code",
   "execution_count": 50,
   "id": "20c2dbb6-6450-4fdf-b806-77b4849e21b7",
   "metadata": {},
   "outputs": [
    {
     "data": {
      "image/png": "[encoded data removed]",
      "text/plain": [
       "<Figure size 1296x432 with 2 Axes>"
      ]
     },
     "metadata": {
      "needs_background": "light"
     },
     "output_type": "display_data"
    }
   ],
   "source": [
    "plt.figure(figsize=(18,6))\n",
    "\n",
    "plt.subplot(1,2,1)\n",
    "original_Schooling = df_limpio['Schooling']\n",
    "plt.boxplot(original_Schooling)\n",
    "plt.title(\"Original Schooling\")\n",
    "\n",
    "plt.subplot(1,2,2)\n",
    "winsorized_Schooling = winsorize(df_limpio['Schooling'],(0.03,0.01))\n",
    "plt.boxplot(winsorized_Schooling)\n",
    "plt.title(\"modified Schooling\")\n",
    "\n",
    "plt.show()"
   ]
  },
  {
   "cell_type": "code",
   "execution_count": null,
   "id": "e8bf18f9-9ca4-47a7-8d8b-52929a59952e",
   "metadata": {},
   "outputs": [],
   "source": []
  }
 ],
 "metadata": {
  "kernelspec": {
   "display_name": "Python 3 (ipykernel)",
   "language": "python",
   "name": "python3"
  },
  "language_info": {
   "codemirror_mode": {
    "name": "ipython",
    "version": 3
   },
   "file_extension": ".py",
   "mimetype": "text/x-python",
   "name": "python",
   "nbconvert_exporter": "python",
   "pygments_lexer": "ipython3",
   "version": "3.9.7"
  }
 },
 "nbformat": 4,
 "nbformat_minor": 5
}
